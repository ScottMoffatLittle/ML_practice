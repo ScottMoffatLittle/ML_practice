{
 "cells": [
  {
   "cell_type": "markdown",
   "metadata": {},
   "source": [
    "## Used Car Price Predictor\n",
    "I am using a used car dataset to try and predict the price of a used car based on factors such as year, mielage, make, etc. This is my first attempt without any outside help."
   ]
  },
  {
   "cell_type": "code",
   "execution_count": 1,
   "metadata": {},
   "outputs": [],
   "source": [
    "import pandas as pd\n",
    "import numpy as np\n",
    "\n",
    "import seaborn as sns\n",
    "import matplotlib.pyplot as plt\n",
    "%matplotlib inline\n",
    "\n",
    "from sklearn.linear_model import LogisticRegression\n",
    "from sklearn.preprocessing import LabelEncoder"
   ]
  },
  {
   "cell_type": "code",
   "execution_count": 2,
   "metadata": {},
   "outputs": [
    {
     "data": {
      "text/plain": [
       "(852122, 8)"
      ]
     },
     "execution_count": 2,
     "metadata": {},
     "output_type": "execute_result"
    }
   ],
   "source": [
    "#Load in used car data\n",
    "df = pd.read_csv('./Input/true_car_listings.csv')  # Dataframe of used car data called df\n",
    "df.shape"
   ]
  },
  {
   "cell_type": "code",
   "execution_count": 3,
   "metadata": {},
   "outputs": [],
   "source": [
    "#df.head()"
   ]
  },
  {
   "cell_type": "code",
   "execution_count": 4,
   "metadata": {},
   "outputs": [
    {
     "data": {
      "text/html": [
       "<div>\n",
       "<style scoped>\n",
       "    .dataframe tbody tr th:only-of-type {\n",
       "        vertical-align: middle;\n",
       "    }\n",
       "\n",
       "    .dataframe tbody tr th {\n",
       "        vertical-align: top;\n",
       "    }\n",
       "\n",
       "    .dataframe thead th {\n",
       "        text-align: right;\n",
       "    }\n",
       "</style>\n",
       "<table border=\"1\" class=\"dataframe\">\n",
       "  <thead>\n",
       "    <tr style=\"text-align: right;\">\n",
       "      <th></th>\n",
       "      <th>Price</th>\n",
       "      <th>Year</th>\n",
       "      <th>Mileage</th>\n",
       "      <th>City</th>\n",
       "      <th>State</th>\n",
       "      <th>Make</th>\n",
       "      <th>Model</th>\n",
       "    </tr>\n",
       "  </thead>\n",
       "  <tbody>\n",
       "    <tr>\n",
       "      <th>0</th>\n",
       "      <td>8995</td>\n",
       "      <td>2014</td>\n",
       "      <td>35725</td>\n",
       "      <td>El Paso</td>\n",
       "      <td>TX</td>\n",
       "      <td>Acura</td>\n",
       "      <td>ILX6-Speed</td>\n",
       "    </tr>\n",
       "    <tr>\n",
       "      <th>1</th>\n",
       "      <td>10888</td>\n",
       "      <td>2013</td>\n",
       "      <td>19606</td>\n",
       "      <td>Long Island City</td>\n",
       "      <td>NY</td>\n",
       "      <td>Acura</td>\n",
       "      <td>ILX5-Speed</td>\n",
       "    </tr>\n",
       "    <tr>\n",
       "      <th>2</th>\n",
       "      <td>8995</td>\n",
       "      <td>2013</td>\n",
       "      <td>48851</td>\n",
       "      <td>El Paso</td>\n",
       "      <td>TX</td>\n",
       "      <td>Acura</td>\n",
       "      <td>ILX6-Speed</td>\n",
       "    </tr>\n",
       "    <tr>\n",
       "      <th>3</th>\n",
       "      <td>10999</td>\n",
       "      <td>2014</td>\n",
       "      <td>39922</td>\n",
       "      <td>Windsor</td>\n",
       "      <td>CO</td>\n",
       "      <td>Acura</td>\n",
       "      <td>ILX5-Speed</td>\n",
       "    </tr>\n",
       "    <tr>\n",
       "      <th>4</th>\n",
       "      <td>14799</td>\n",
       "      <td>2016</td>\n",
       "      <td>22142</td>\n",
       "      <td>Lindon</td>\n",
       "      <td>UT</td>\n",
       "      <td>Acura</td>\n",
       "      <td>ILXAutomatic</td>\n",
       "    </tr>\n",
       "  </tbody>\n",
       "</table>\n",
       "</div>"
      ],
      "text/plain": [
       "   Price  Year  Mileage              City State   Make         Model\n",
       "0   8995  2014    35725           El Paso    TX  Acura    ILX6-Speed\n",
       "1  10888  2013    19606  Long Island City    NY  Acura    ILX5-Speed\n",
       "2   8995  2013    48851           El Paso    TX  Acura    ILX6-Speed\n",
       "3  10999  2014    39922           Windsor    CO  Acura    ILX5-Speed\n",
       "4  14799  2016    22142            Lindon    UT  Acura  ILXAutomatic"
      ]
     },
     "execution_count": 4,
     "metadata": {},
     "output_type": "execute_result"
    }
   ],
   "source": [
    "# Vin number likely does not correlate to price, so drop it\n",
    "df = df.drop('Vin', axis=1)\n",
    "df.head()"
   ]
  },
  {
   "cell_type": "code",
   "execution_count": 5,
   "metadata": {},
   "outputs": [],
   "source": [
    "#convert all states to upper case and cities to lower case to account for spelling differences\n",
    "df['State'] = df['State'].str.upper()\n",
    "df['City'] = df['City'].str.lower()\n",
    "   "
   ]
  },
  {
   "cell_type": "code",
   "execution_count": 6,
   "metadata": {},
   "outputs": [],
   "source": [
    "lbe = LabelEncoder()\n",
    "city_labels = lbe.fit_transform(df['City'])\n",
    "state_labels = lbe.fit_transform(df['State'])\n",
    "make_labels = lbe.fit_transform(df['Make'])\n",
    "model_labels = lbe.fit_transform(df['Model'])\n"
   ]
  },
  {
   "cell_type": "code",
   "execution_count": 7,
   "metadata": {},
   "outputs": [],
   "source": [
    "df['City'] = city_labels\n",
    "df['State'] = state_labels\n",
    "df['Make'] = make_labels\n",
    "df['Model'] = model_labels\n"
   ]
  },
  {
   "cell_type": "code",
   "execution_count": 8,
   "metadata": {},
   "outputs": [],
   "source": [
    "from sklearn.model_selection import train_test_split\n",
    "\n",
    "X = df.drop('Price', axis=1)\n",
    "Y = df['Price']\n",
    "\n",
    "Xtrain, Xtest, ytrain, ytest = train_test_split(X, Y, random_state=1)"
   ]
  },
  {
   "cell_type": "code",
   "execution_count": 9,
   "metadata": {},
   "outputs": [],
   "source": [
    "from sklearn.tree import DecisionTreeRegressor\n",
    "model = DecisionTreeRegressor()\n",
    "model.fit(Xtrain, ytrain)\n",
    "y_model = model.predict(Xtest)"
   ]
  },
  {
   "cell_type": "markdown",
   "metadata": {},
   "source": [
    "from sklearn.linear_model import LinearRegression\n",
    "model = LinearRegression()\n",
    "\n",
    "model.fit(Xtrain,ytrain)\n",
    "y_model = model.predict(Xtest)\n"
   ]
  },
  {
   "cell_type": "markdown",
   "metadata": {},
   "source": [
    "from sklearn.ensemble import RandomForestRegressor\n",
    "from sklearn.model_selection import GridSearchCV\n",
    "\n",
    "rf = RandomForestRegressor()\n",
    "\n",
    "param_grid = { \"criterion\" : [\"mse\"]\n",
    "              , \"min_samples_leaf\" : [3]\n",
    "              , \"min_samples_split\" : [3]\n",
    "              , \"max_depth\": [10]\n",
    "              , \"n_estimators\": [500]}\n",
    "\n",
    "gs = GridSearchCV(estimator=rf, param_grid=param_grid, cv=2, n_jobs=-1, verbose=1)\n",
    "gs = gs.fit(Xtrain, ytrain)"
   ]
  },
  {
   "cell_type": "markdown",
   "metadata": {},
   "source": [
    "y_model = gs.predict(Xtest)"
   ]
  },
  {
   "cell_type": "code",
   "execution_count": 10,
   "metadata": {},
   "outputs": [
    {
     "data": {
      "text/plain": [
       "2988.3817599847594"
      ]
     },
     "execution_count": 10,
     "metadata": {},
     "output_type": "execute_result"
    }
   ],
   "source": [
    "from sklearn.metrics import mean_absolute_error\n",
    "mean_absolute_error(ytest, y_model)"
   ]
  },
  {
   "cell_type": "code",
   "execution_count": null,
   "metadata": {},
   "outputs": [],
   "source": []
  }
 ],
 "metadata": {
  "kernelspec": {
   "display_name": "Python 3",
   "language": "python",
   "name": "python3"
  },
  "language_info": {
   "codemirror_mode": {
    "name": "ipython",
    "version": 3
   },
   "file_extension": ".py",
   "mimetype": "text/x-python",
   "name": "python",
   "nbconvert_exporter": "python",
   "pygments_lexer": "ipython3",
   "version": "3.6.8"
  }
 },
 "nbformat": 4,
 "nbformat_minor": 2
}
